{
 "cells": [
  {
   "cell_type": "code",
   "execution_count": 8,
   "metadata": {},
   "outputs": [],
   "source": [
    "names_female_file = '../corpus/names_female.txt'\n",
    "names_male_file = '../corpus/names_male.txt'"
   ]
  },
  {
   "cell_type": "code",
   "execution_count": 9,
   "metadata": {},
   "outputs": [],
   "source": [
    "def clean_names(file_name):\n",
    "    print(file_name)\n",
    "    file_handle = open(file_name, encoding='utf-8')\n",
    "    names = file_handle.read().split('\\n')\n",
    "    file_handle.close()\n",
    "    print(len(names))\n",
    "    names = list(sorted(set(names)))\n",
    "    print(len(names))\n",
    "    outfile = open(file_name, encoding='utf-8', mode='w')\n",
    "    for name in names:\n",
    "        outfile.write(name + '\\n')\n",
    "    print('---------------------')"
   ]
  },
  {
   "cell_type": "code",
   "execution_count": 10,
   "metadata": {},
   "outputs": [
    {
     "name": "stdout",
     "output_type": "stream",
     "text": [
      "../corpus/names_female.txt\n",
      "1432\n",
      "1432\n",
      "---------------------\n",
      "../corpus/names_male.txt\n",
      "1003\n",
      "1002\n",
      "---------------------\n"
     ]
    }
   ],
   "source": [
    "clean_names(names_female_file)\n",
    "clean_names(names_male_file)"
   ]
  }
 ],
 "metadata": {
  "kernelspec": {
   "display_name": "Python 3",
   "language": "python",
   "name": "python3"
  },
  "language_info": {
   "codemirror_mode": {
    "name": "ipython",
    "version": 3
   },
   "file_extension": ".py",
   "mimetype": "text/x-python",
   "name": "python",
   "nbconvert_exporter": "python",
   "pygments_lexer": "ipython3",
   "version": "3.7.3"
  }
 },
 "nbformat": 4,
 "nbformat_minor": 4
}
