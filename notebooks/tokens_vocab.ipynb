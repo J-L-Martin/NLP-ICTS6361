{
 "cells": [
  {
   "cell_type": "code",
   "execution_count": 1,
   "metadata": {},
   "outputs": [],
   "source": [
    "jsc_file = '../corpus/aljazeera.net_20190419_titles.txt'\n",
    "cnn_file = '../corpus/arabic.cnn.com_20190419_titles.txt'\n",
    "euro_file  = '../corpus/arabic.euronews.com_20190409_titles.txt'\n",
    "rt_file = '../corpus/arabic.rt.com_20190419_titles.txt'\n",
    "bbc_file = '../corpus/bbc.com_20190409_titles.txt'"
   ]
  },
  {
   "cell_type": "code",
   "execution_count": 2,
   "metadata": {},
   "outputs": [],
   "source": [
    "def load_corpus(file_name):\n",
    "    text = open(file_name, encoding='utf-8').read().split()\n",
    "    return text"
   ]
  },
  {
   "cell_type": "code",
   "execution_count": 4,
   "metadata": {},
   "outputs": [],
   "source": [
    "jsc = load_corpus(jsc_file)\n",
    "cnn = load_corpus(cnn_file)\n",
    "euro = load_corpus(euro_file)\n",
    "rt = load_corpus(rt_file)\n",
    "bbc = load_corpus(bbc_file)"
   ]
  },
  {
   "cell_type": "code",
   "execution_count": 7,
   "metadata": {},
   "outputs": [
    {
     "data": {
      "text/plain": [
       "{'a', 'b'}"
      ]
     },
     "execution_count": 7,
     "metadata": {},
     "output_type": "execute_result"
    }
   ],
   "source": [
    "set(['a', 'b', 'a'])"
   ]
  },
  {
   "cell_type": "code",
   "execution_count": 11,
   "metadata": {},
   "outputs": [],
   "source": [
    "corpora = {'jsc': jsc, 'cnn': cnn, 'euro': euro, \n",
    "           'rt': rt, 'bbc': bbc}"
   ]
  },
  {
   "cell_type": "code",
   "execution_count": 15,
   "metadata": {},
   "outputs": [
    {
     "name": "stdout",
     "output_type": "stream",
     "text": [
      "corpus: jsc\ttokens: 597K\tvocab: 33K\n",
      "corpus: cnn\ttokens: 350K\tvocab: 69K\n",
      "corpus: euro\ttokens: 450K\tvocab: 59K\n",
      "corpus: rt\ttokens: 2865K\tvocab: 129K\n",
      "corpus: bbc\ttokens: 851K\tvocab: 88K\n"
     ]
    }
   ],
   "source": [
    "for corpus_name, corpus in corpora.items():\n",
    "    tokens = int(len(corpus)/1000)\n",
    "    vocab = int(len(set(corpus))/1000)\n",
    "    print('corpus: {}\\ttokens: {}K\\tvocab: {}K'.format(corpus_name, \n",
    "                                                     tokens, \n",
    "                                                    vocab))"
   ]
  },
  {
   "cell_type": "code",
   "execution_count": 16,
   "metadata": {},
   "outputs": [],
   "source": [
    "def load_corpus_text(file_name):\n",
    "    text = open(file_name, encoding='utf-8').read()\n",
    "    return text"
   ]
  },
  {
   "cell_type": "code",
   "execution_count": 17,
   "metadata": {},
   "outputs": [],
   "source": [
    "jsc_text = load_corpus_text(jsc_file)\n",
    "cnn_text = load_corpus_text(cnn_file)\n",
    "euro_text = load_corpus_text(euro_file)\n",
    "rt_text = load_corpus_text(rt_file)\n",
    "bbc_text = load_corpus_text(bbc_file)"
   ]
  },
  {
   "cell_type": "code",
   "execution_count": 21,
   "metadata": {},
   "outputs": [
    {
     "data": {
      "text/plain": [
       "(3355353, 123)"
      ]
     },
     "execution_count": 21,
     "metadata": {},
     "output_type": "execute_result"
    }
   ],
   "source": [
    "len(jsc_text), len(set(jsc_text))"
   ]
  },
  {
   "cell_type": "code",
   "execution_count": 22,
   "metadata": {},
   "outputs": [
    {
     "data": {
      "text/plain": [
       "'قطر تشتري حصة بشركة شل\\nمجلس الأمن يبحث طلب فلسطين\\nبلاتر: العقوبة ضد السودان عادلة\\nالعراق يلغي صفقة س'"
      ]
     },
     "execution_count": 22,
     "metadata": {},
     "output_type": "execute_result"
    }
   ],
   "source": [
    "jsc_text[:100]"
   ]
  },
  {
   "cell_type": "code",
   "execution_count": 24,
   "metadata": {},
   "outputs": [
    {
     "name": "stdout",
     "output_type": "stream",
     "text": [
      "['ق', 'ط', 'ر', ' ', 'ت', 'ش', 'ت', 'ر', 'ي', ' ', 'ح', 'ص', 'ة', ' ', 'ب', 'ش', 'ر', 'ك', 'ة', ' ', 'ش', 'ل', '\\n', 'م', 'ج', 'ل', 'س', ' ', 'ا', 'ل', 'أ', 'م', 'ن', ' ', 'ي', 'ب', 'ح', 'ث', ' ', 'ط', 'ل', 'ب', ' ', 'ف', 'ل', 'س', 'ط', 'ي', 'ن', '\\n', 'ب', 'ل', 'ا', 'ت', 'ر', ':', ' ', 'ا', 'ل', 'ع', 'ق', 'و', 'ب', 'ة', ' ', 'ض', 'د', ' ', 'ا', 'ل', 'س', 'و', 'د', 'ا', 'ن', ' ', 'ع', 'ا', 'د', 'ل', 'ة', '\\n', 'ا', 'ل', 'ع', 'ر', 'ا', 'ق', ' ', 'ي', 'ل', 'غ', 'ي', ' ', 'ص', 'ف', 'ق', 'ة', ' ', 'س']\n"
     ]
    }
   ],
   "source": [
    "print(list(jsc_text)[:100])"
   ]
  },
  {
   "cell_type": "code",
   "execution_count": 30,
   "metadata": {},
   "outputs": [
    {
     "data": {
      "text/plain": [
       "[(488161, ' '),\n",
       " (329535, 'ا'),\n",
       " (246271, 'ل'),\n",
       " (232649, 'ي'),\n",
       " (169278, 'ر'),\n",
       " (154264, 'م'),\n",
       " (137386, 'ن'),\n",
       " (130294, 'و'),\n",
       " (129737, 'ت'),\n",
       " (123311, 'ب')]"
      ]
     },
     "execution_count": 30,
     "metadata": {},
     "output_type": "execute_result"
    }
   ],
   "source": [
    "char_dict = {}\n",
    "for ch in list(jsc_text):\n",
    "    char_dict[ch] = char_dict.get(ch, 0) + 1\n",
    "sorted( [ (v, k) for k,v in char_dict.items() ], reverse=True )[:10]"
   ]
  },
  {
   "cell_type": "code",
   "execution_count": 35,
   "metadata": {},
   "outputs": [
    {
     "data": {
      "text/plain": [
       "[(756536, ' '),\n",
       " (648347, 'ا'),\n",
       " (450464, 'ل'),\n",
       " (401722, 'ي'),\n",
       " (245488, 'ر'),\n",
       " (243725, 'م'),\n",
       " (225316, 'ن'),\n",
       " (209322, 'ت'),\n",
       " (202994, 'و'),\n",
       " (164608, 'ب'),\n",
       " (142563, 'ة'),\n",
       " (133170, 'د'),\n",
       " (129613, 'س'),\n",
       " (126447, 'ع'),\n",
       " (124702, 'ف'),\n",
       " (96543, 'ق'),\n",
       " (94734, '\\n'),\n",
       " (78851, 'ح'),\n",
       " (70275, 'ك'),\n",
       " (67986, 'ج'),\n",
       " (62994, 'ه'),\n",
       " (56553, 'أ'),\n",
       " (48795, 'ط'),\n",
       " (45243, 'ش'),\n",
       " (44733, '\"'),\n",
       " (44707, 'ص'),\n",
       " (34346, 'ز'),\n",
       " (30843, 'خ'),\n",
       " (29360, 'إ'),\n",
       " (28322, 'ى'),\n",
       " (25797, ':'),\n",
       " (25134, 'ض'),\n",
       " (24372, 'غ'),\n",
       " (23616, 'ئ'),\n",
       " (17615, 'ث'),\n",
       " (14117, 'ء'),\n",
       " (10937, 'ذ'),\n",
       " (8792, 'ظ'),\n",
       " (6169, '0'),\n",
       " (5686, '1'),\n",
       " (5608, '؟'),\n",
       " (4627, '2'),\n",
       " (4463, 'ؤ'),\n",
       " (3333, 'آ'),\n",
       " (2460, '3'),\n",
       " (2341, '5'),\n",
       " (2004, '،'),\n",
       " (1937, '4'),\n",
       " (1894, '.'),\n",
       " (1643, '6'),\n",
       " (1438, '7'),\n",
       " (1394, 'ـ'),\n",
       " (1377, '8'),\n",
       " (1135, '_'),\n",
       " (1047, '9'),\n",
       " (812, 'ً'),\n",
       " (702, '#'),\n",
       " (653, 'ُ'),\n",
       " (589, 'ّ'),\n",
       " (551, '-'),\n",
       " (188, 'َ'),\n",
       " (124, ')'),\n",
       " (124, '('),\n",
       " (118, 'ِ'),\n",
       " (113, '!'),\n",
       " (94, '/'),\n",
       " (88, '%'),\n",
       " (73, 'ْ'),\n",
       " (71, ','),\n",
       " (54, 'e'),\n",
       " (44, 'M'),\n",
       " (40, 'i'),\n",
       " (37, 'A'),\n",
       " (34, \"'\"),\n",
       " (33, 'ٌ'),\n",
       " (33, 'o'),\n",
       " (33, 'H'),\n",
       " (31, 'n'),\n",
       " (29, 'r'),\n",
       " (28, 'ٍ'),\n",
       " (25, 's'),\n",
       " (25, 'a'),\n",
       " (24, 'B'),\n",
       " (22, 't'),\n",
       " (21, 'I'),\n",
       " (20, 'S'),\n",
       " (18, 'l'),\n",
       " (18, 'F'),\n",
       " (15, 'd'),\n",
       " (14, 'u'),\n",
       " (14, 'p'),\n",
       " (12, 'P'),\n",
       " (12, 'C'),\n",
       " (11, 'm'),\n",
       " (9, '\\u200f'),\n",
       " (9, 'c'),\n",
       " (9, 'V'),\n",
       " (9, 'T'),\n",
       " (9, 'O'),\n",
       " (8, 'h'),\n",
       " (8, 'G'),\n",
       " (7, 'g'),\n",
       " (7, 'X'),\n",
       " (6, '\\u200b'),\n",
       " (6, '١'),\n",
       " (6, 'y'),\n",
       " (6, 'R'),\n",
       " (6, 'L'),\n",
       " (6, 'D'),\n",
       " (5, 'x'),\n",
       " (5, 'b'),\n",
       " (5, 'W'),\n",
       " (5, 'K'),\n",
       " (5, '+'),\n",
       " (4, '\\u200d'),\n",
       " (4, 'k'),\n",
       " (4, 'Z'),\n",
       " (4, 'N'),\n",
       " (3, '\\ufeff'),\n",
       " (3, '\\u202b'),\n",
       " (3, '…'),\n",
       " (3, '٥'),\n",
       " (3, '٢'),\n",
       " (3, '٠'),\n",
       " (3, 'w'),\n",
       " (3, 'U'),\n",
       " (3, 'J'),\n",
       " (3, 'E'),\n",
       " (2, 'ﺑ'),\n",
       " (2, '٨'),\n",
       " (2, 'f'),\n",
       " (2, 'Y'),\n",
       " (1, '\\u202d'),\n",
       " (1, '\\u202c'),\n",
       " (1, '’'),\n",
       " (1, '‘'),\n",
       " (1, '\\u200e'),\n",
       " (1, '٪'),\n",
       " (1, '٩'),\n",
       " (1, '٧'),\n",
       " (1, '٦'),\n",
       " (1, '٤'),\n",
       " (1, '؛'),\n",
       " (1, 'é'),\n",
       " (1, 'à'),\n",
       " (1, 'v'),\n",
       " (1, 'j'),\n",
       " (1, '?'),\n",
       " (1, '&')]"
      ]
     },
     "execution_count": 35,
     "metadata": {},
     "output_type": "execute_result"
    }
   ],
   "source": [
    "char_dict = {}\n",
    "for ch in list(bbc_text):\n",
    "    char_dict[ch] = char_dict.get(ch, 0) + 1\n",
    "sorted( [ (v, k) for k,v in char_dict.items() ], reverse=True )"
   ]
  },
  {
   "cell_type": "code",
   "execution_count": 32,
   "metadata": {},
   "outputs": [
    {
     "data": {
      "text/plain": [
       "[(2531329, ' '),\n",
       " (2021773, 'ا'),\n",
       " (1455541, 'ل'),\n",
       " (1346873, 'ي'),\n",
       " (878153, 'ر'),\n",
       " (788066, 'و'),\n",
       " (775507, 'م'),\n",
       " (696116, 'ن'),\n",
       " (662800, 'ت'),\n",
       " (525538, 'ب')]"
      ]
     },
     "execution_count": 32,
     "metadata": {},
     "output_type": "execute_result"
    }
   ],
   "source": [
    "char_dict = {}\n",
    "for ch in list(rt_text):\n",
    "    char_dict[ch] = char_dict.get(ch, 0) + 1\n",
    "sorted( [ (v, k) for k,v in char_dict.items() ], reverse=True )[:10]"
   ]
  },
  {
   "cell_type": "code",
   "execution_count": 34,
   "metadata": {},
   "outputs": [
    {
     "data": {
      "text/plain": [
       "[(1, 'ﻜ'),\n",
       " (1, 'ﻘ'),\n",
       " (1, 'ﻗ'),\n",
       " (1, 'ﻅ'),\n",
       " (1, 'ﻄ'),\n",
       " (1, 'ﻃ'),\n",
       " (1, 'ﺸ'),\n",
       " (1, 'ﺷ'),\n",
       " (1, 'ﺶ'),\n",
       " (1, 'ﺴ'),\n",
       " (1, 'ﺳ'),\n",
       " (1, 'ﺲ'),\n",
       " (1, 'ﺰ'),\n",
       " (1, 'ﺢ'),\n",
       " (1, 'ﺟ'),\n",
       " (1, 'ﺏ'),\n",
       " (1, '…'),\n",
       " (1, '؛'),\n",
       " (1, '°'),\n",
       " (1, '`')]"
      ]
     },
     "execution_count": 34,
     "metadata": {},
     "output_type": "execute_result"
    }
   ],
   "source": [
    "char_dict = {}\n",
    "for ch in list(rt_text):\n",
    "    char_dict[ch] = char_dict.get(ch, 0) + 1\n",
    "sorted( [ (v, k) for k,v in char_dict.items() ], reverse=True )[-20:]"
   ]
  },
  {
   "cell_type": "code",
   "execution_count": 36,
   "metadata": {},
   "outputs": [
    {
     "data": {
      "text/plain": [
       "['م', 'ك', 'ت', 'ب', 'ة']"
      ]
     },
     "execution_count": 36,
     "metadata": {},
     "output_type": "execute_result"
    }
   ],
   "source": [
    "list('مكتبة')"
   ]
  },
  {
   "cell_type": "code",
   "execution_count": 37,
   "metadata": {},
   "outputs": [
    {
     "data": {
      "text/plain": [
       "['ك', 'ت', 'ا', 'ب']"
      ]
     },
     "execution_count": 37,
     "metadata": {},
     "output_type": "execute_result"
    }
   ],
   "source": [
    "list('كتاب')"
   ]
  },
  {
   "cell_type": "code",
   "execution_count": 38,
   "metadata": {},
   "outputs": [
    {
     "data": {
      "text/plain": [
       "['م', 'ك', 'ﻜ', 'ت', 'ب', 'ة']"
      ]
     },
     "execution_count": 38,
     "metadata": {},
     "output_type": "execute_result"
    }
   ],
   "source": [
    "list('مكﻜتبة')"
   ]
  },
  {
   "cell_type": "code",
   "execution_count": 39,
   "metadata": {},
   "outputs": [
    {
     "data": {
      "text/plain": [
       "{'ب', 'ة', 'ت', 'ك', 'م', 'ﻜ'}"
      ]
     },
     "execution_count": 39,
     "metadata": {},
     "output_type": "execute_result"
    }
   ],
   "source": [
    "set(list('مكﻜتبة'))"
   ]
  }
 ],
 "metadata": {
  "kernelspec": {
   "display_name": "Python 3",
   "language": "python",
   "name": "python3"
  },
  "language_info": {
   "codemirror_mode": {
    "name": "ipython",
    "version": 3
   },
   "file_extension": ".py",
   "mimetype": "text/x-python",
   "name": "python",
   "nbconvert_exporter": "python",
   "pygments_lexer": "ipython3",
   "version": "3.7.3"
  }
 },
 "nbformat": 4,
 "nbformat_minor": 4
}
