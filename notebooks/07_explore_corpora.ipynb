{
 "cells": [
  {
   "cell_type": "markdown",
   "metadata": {},
   "source": [
    "# Explore corpora"
   ]
  },
  {
   "cell_type": "code",
   "execution_count": 1,
   "metadata": {},
   "outputs": [],
   "source": [
    "jsc_file = '../corpus/aljazeera.net_20190419_titles.txt'\n",
    "cnn_file = '../corpus/arabic.cnn.com_20190419_titles.txt'\n",
    "euro_file  = '../corpus/arabic.euronews.com_20190409_titles.txt'\n",
    "rt_file = '../corpus/arabic.rt.com_20190419_titles.txt'\n",
    "bbc_file = '../corpus/bbc.com_20190409_titles.txt'"
   ]
  },
  {
   "cell_type": "code",
   "execution_count": 5,
   "metadata": {},
   "outputs": [],
   "source": [
    "def load_corpus(file_name):\n",
    "    text = open(file_name, encoding='utf-8').read().split()\n",
    "    return text"
   ]
  },
  {
   "cell_type": "code",
   "execution_count": 6,
   "metadata": {},
   "outputs": [],
   "source": [
    "jsc = load_corpus(jsc_file)"
   ]
  },
  {
   "cell_type": "code",
   "execution_count": 7,
   "metadata": {},
   "outputs": [
    {
     "data": {
      "text/plain": [
       "['قطر',\n",
       " 'تشتري',\n",
       " 'حصة',\n",
       " 'بشركة',\n",
       " 'شل',\n",
       " 'مجلس',\n",
       " 'الأمن',\n",
       " 'يبحث',\n",
       " 'طلب',\n",
       " 'فلسطين']"
      ]
     },
     "execution_count": 7,
     "metadata": {},
     "output_type": "execute_result"
    }
   ],
   "source": [
    "jsc[:10]"
   ]
  },
  {
   "cell_type": "code",
   "execution_count": 8,
   "metadata": {},
   "outputs": [],
   "source": [
    "word_dict = {}\n",
    "for word in jsc:\n",
    "    if word in word_dict:\n",
    "        word_dict[word] += 1 # update \n",
    "    else:\n",
    "        word_dict[word] = 1 # add "
   ]
  },
  {
   "cell_type": "code",
   "execution_count": 10,
   "metadata": {},
   "outputs": [
    {
     "data": {
      "text/plain": [
       "[('قطر', 1618),\n",
       " ('تشتري', 141),\n",
       " ('حصة', 69),\n",
       " ('بشركة', 21),\n",
       " ('شل', 63),\n",
       " ('مجلس', 417),\n",
       " ('الأمن', 693),\n",
       " ('يبحث', 249),\n",
       " ('طلب', 153),\n",
       " ('فلسطين', 264)]"
      ]
     },
     "execution_count": 10,
     "metadata": {},
     "output_type": "execute_result"
    }
   ],
   "source": [
    "list(word_dict.items())[:10]"
   ]
  },
  {
   "cell_type": "code",
   "execution_count": 11,
   "metadata": {},
   "outputs": [],
   "source": [
    "word_dict = {}\n",
    "for word in jsc:\n",
    "    word_dict[word] = word_dict.get(word, 0) + 1 "
   ]
  },
  {
   "cell_type": "code",
   "execution_count": 12,
   "metadata": {},
   "outputs": [
    {
     "data": {
      "text/plain": [
       "[('قطر', 1618),\n",
       " ('تشتري', 141),\n",
       " ('حصة', 69),\n",
       " ('بشركة', 21),\n",
       " ('شل', 63),\n",
       " ('مجلس', 417),\n",
       " ('الأمن', 693),\n",
       " ('يبحث', 249),\n",
       " ('طلب', 153),\n",
       " ('فلسطين', 264)]"
      ]
     },
     "execution_count": 12,
     "metadata": {},
     "output_type": "execute_result"
    }
   ],
   "source": [
    "list(word_dict.items())[:10]"
   ]
  },
  {
   "cell_type": "code",
   "execution_count": 14,
   "metadata": {},
   "outputs": [],
   "source": [
    "def count_words(word_list):\n",
    "    word_dict = {}\n",
    "    for word in word_list:\n",
    "        word_dict[word] = word_dict.get(word, 0) + 1 \n",
    "    return word_dict"
   ]
  },
  {
   "cell_type": "code",
   "execution_count": 15,
   "metadata": {},
   "outputs": [],
   "source": [
    "jsc_count = count_words(jsc)"
   ]
  },
  {
   "cell_type": "code",
   "execution_count": 16,
   "metadata": {},
   "outputs": [
    {
     "data": {
      "text/plain": [
       "[('قطر', 1618),\n",
       " ('تشتري', 141),\n",
       " ('حصة', 69),\n",
       " ('بشركة', 21),\n",
       " ('شل', 63),\n",
       " ('مجلس', 417),\n",
       " ('الأمن', 693),\n",
       " ('يبحث', 249),\n",
       " ('طلب', 153),\n",
       " ('فلسطين', 264)]"
      ]
     },
     "execution_count": 16,
     "metadata": {},
     "output_type": "execute_result"
    }
   ],
   "source": [
    "list(word_dict.items())[:10]"
   ]
  },
  {
   "cell_type": "code",
   "execution_count": 17,
   "metadata": {},
   "outputs": [],
   "source": [
    "cnn_count = count_words(load_corpus(cnn_file))\n",
    "bbc_count = count_words(load_corpus(bbc_file))\n",
    "rt_count = count_words(load_corpus(rt_file))\n",
    "euronews_count = count_words(load_corpus(euro_file))"
   ]
  },
  {
   "cell_type": "code",
   "execution_count": 18,
   "metadata": {},
   "outputs": [
    {
     "data": {
      "text/plain": [
       "264"
      ]
     },
     "execution_count": 18,
     "metadata": {},
     "output_type": "execute_result"
    }
   ],
   "source": [
    "jsc_count.get('فلسطين')"
   ]
  },
  {
   "cell_type": "code",
   "execution_count": 19,
   "metadata": {},
   "outputs": [
    {
     "data": {
      "text/plain": [
       "58"
      ]
     },
     "execution_count": 19,
     "metadata": {},
     "output_type": "execute_result"
    }
   ],
   "source": [
    "bbc_count.get('فلسطين')"
   ]
  },
  {
   "cell_type": "code",
   "execution_count": 20,
   "metadata": {},
   "outputs": [
    {
     "data": {
      "text/plain": [
       "637"
      ]
     },
     "execution_count": 20,
     "metadata": {},
     "output_type": "execute_result"
    }
   ],
   "source": [
    "rt_count.get('فلسطين')"
   ]
  },
  {
   "cell_type": "code",
   "execution_count": 21,
   "metadata": {},
   "outputs": [
    {
     "data": {
      "text/plain": [
       "36"
      ]
     },
     "execution_count": 21,
     "metadata": {},
     "output_type": "execute_result"
    }
   ],
   "source": [
    "euronews_count.get('فلسطين')"
   ]
  },
  {
   "cell_type": "code",
   "execution_count": 24,
   "metadata": {},
   "outputs": [
    {
     "data": {
      "text/plain": [
       "[('\"', 12),\n",
       " ('\"#آخر_أغنية\"..', 3),\n",
       " ('\"#إسراء_الطويل\"..', 3),\n",
       " ('\"#بنقردان\"..', 3),\n",
       " ('\"#ريهام_ماتت\"', 3),\n",
       " ('\"1', 3),\n",
       " ('\"122\"', 3),\n",
       " ('\"1948\"', 3),\n",
       " ('\"20', 3),\n",
       " ('\"23andMe\"', 3)]"
      ]
     },
     "execution_count": 24,
     "metadata": {},
     "output_type": "execute_result"
    }
   ],
   "source": [
    "sorted(jsc_count.items())[:10]"
   ]
  },
  {
   "cell_type": "code",
   "execution_count": 30,
   "metadata": {},
   "outputs": [
    {
     "name": "stdout",
     "output_type": "stream",
     "text": [
      "key: قطر\t value: 1618\n",
      "value: 1618\t key: قطر\n",
      "------------------------\n",
      "key: تشتري\t value: 141\n",
      "value: 141\t key: تشتري\n",
      "------------------------\n",
      "key: حصة\t value: 69\n",
      "value: 69\t key: حصة\n",
      "------------------------\n",
      "key: بشركة\t value: 21\n",
      "value: 21\t key: بشركة\n",
      "------------------------\n",
      "key: شل\t value: 63\n",
      "value: 63\t key: شل\n",
      "------------------------\n",
      "key: مجلس\t value: 417\n",
      "value: 417\t key: مجلس\n",
      "------------------------\n",
      "key: الأمن\t value: 693\n",
      "value: 693\t key: الأمن\n",
      "------------------------\n",
      "key: يبحث\t value: 249\n",
      "value: 249\t key: يبحث\n",
      "------------------------\n",
      "key: طلب\t value: 153\n",
      "value: 153\t key: طلب\n",
      "------------------------\n",
      "key: فلسطين\t value: 264\n",
      "value: 264\t key: فلسطين\n",
      "------------------------\n"
     ]
    }
   ],
   "source": [
    "for key, value in list(jsc_count.items())[:10]:\n",
    "    print('key: {}\\t value: {}'.format(key, value))\n",
    "    print('value: {}\\t key: {}'.format(value, key))\n",
    "    print('------------------------')"
   ]
  },
  {
   "cell_type": "code",
   "execution_count": 34,
   "metadata": {},
   "outputs": [
    {
     "data": {
      "text/plain": [
       "[(21042, 'في'),\n",
       " (10199, 'من'),\n",
       " (6902, 'على'),\n",
       " (4616, 'مصر'),\n",
       " (3732, 'عن'),\n",
       " (3335, 'مقتل'),\n",
       " (2711, 'قتلى'),\n",
       " (2597, 'غزة'),\n",
       " (2359, 'مع'),\n",
       " (2349, 'إلى')]"
      ]
     },
     "execution_count": 34,
     "metadata": {},
     "output_type": "execute_result"
    }
   ],
   "source": [
    "sorted( [ (v, k) for k,v in jsc_count.items()  ] , reverse=True )[:10]"
   ]
  },
  {
   "cell_type": "code",
   "execution_count": 35,
   "metadata": {},
   "outputs": [],
   "source": [
    "def get_most_freq_words(dictionary):\n",
    "    return sorted( [ (v, k) for k,v in dictionary.items()  ] , reverse=True )"
   ]
  },
  {
   "cell_type": "code",
   "execution_count": 36,
   "metadata": {},
   "outputs": [
    {
     "data": {
      "text/plain": [
       "[(21042, 'في'),\n",
       " (10199, 'من'),\n",
       " (6902, 'على'),\n",
       " (4616, 'مصر'),\n",
       " (3732, 'عن'),\n",
       " (3335, 'مقتل'),\n",
       " (2711, 'قتلى'),\n",
       " (2597, 'غزة'),\n",
       " (2359, 'مع'),\n",
       " (2349, 'إلى')]"
      ]
     },
     "execution_count": 36,
     "metadata": {},
     "output_type": "execute_result"
    }
   ],
   "source": [
    "get_most_freq_words(jsc_count)[:10]"
   ]
  },
  {
   "cell_type": "code",
   "execution_count": 37,
   "metadata": {},
   "outputs": [
    {
     "data": {
      "text/plain": [
       "[(43957, 'في'),\n",
       " (14610, 'على'),\n",
       " (14051, 'من'),\n",
       " (5865, 'عن'),\n",
       " (4184, 'مقتل'),\n",
       " (4111, 'إلى'),\n",
       " (3648, 'مع'),\n",
       " (3423, 'بعد'),\n",
       " (2635, 'بين'),\n",
       " (2236, 'سوريا')]"
      ]
     },
     "execution_count": 37,
     "metadata": {},
     "output_type": "execute_result"
    }
   ],
   "source": [
    "get_most_freq_words(bbc_count)[:10]"
   ]
  },
  {
   "cell_type": "code",
   "execution_count": 38,
   "metadata": {},
   "outputs": [
    {
     "data": {
      "text/plain": [
       "[(119313, 'في'),\n",
       " (49560, 'من'),\n",
       " (48777, 'على'),\n",
       " (20839, 'عن'),\n",
       " (20554, 'إلى'),\n",
       " (16939, 'روسيا'),\n",
       " (16372, 'مع'),\n",
       " (9323, 'بعد'),\n",
       " (9322, 'الروسية'),\n",
       " (8982, 'سوريا')]"
      ]
     },
     "execution_count": 38,
     "metadata": {},
     "output_type": "execute_result"
    }
   ],
   "source": [
    "get_most_freq_words(rt_count)[:10]"
   ]
  },
  {
   "cell_type": "code",
   "execution_count": 40,
   "metadata": {},
   "outputs": [
    {
     "data": {
      "text/plain": [
       "[(8905, 'في'),\n",
       " (6401, 'من'),\n",
       " (5167, 'على'),\n",
       " (2318, 'عن'),\n",
       " (2276, 'بعد'),\n",
       " (1937, 'إلى'),\n",
       " (1476, 'داعش'),\n",
       " (1470, 'لـCNN:'),\n",
       " (1433, 'مع'),\n",
       " (1172, 'هل')]"
      ]
     },
     "execution_count": 40,
     "metadata": {},
     "output_type": "execute_result"
    }
   ],
   "source": [
    "get_most_freq_words(cnn_count)[:10]"
   ]
  },
  {
   "cell_type": "code",
   "execution_count": 41,
   "metadata": {},
   "outputs": [
    {
     "data": {
      "text/plain": [
       "[(21101, 'في'),\n",
       " (8009, 'من'),\n",
       " (7730, 'على'),\n",
       " (3033, 'مع'),\n",
       " (2753, 'إلى'),\n",
       " (2701, 'شاهد:'),\n",
       " (2663, 'بعد'),\n",
       " (2550, 'عن'),\n",
       " (1725, 'ترامب'),\n",
       " (1321, 'السعودية')]"
      ]
     },
     "execution_count": 41,
     "metadata": {},
     "output_type": "execute_result"
    }
   ],
   "source": [
    "get_most_freq_words(euronews_count)[:10]"
   ]
  },
  {
   "cell_type": "code",
   "execution_count": 43,
   "metadata": {},
   "outputs": [
    {
     "data": {
      "text/plain": [
       "[(1, '\"full'),\n",
       " (1, '\"Rio\"'),\n",
       " (1, '\"Galaxy'),\n",
       " (1, '\"GRU\"...أقوى'),\n",
       " (1, '\"G5\"؟'),\n",
       " (1, '\"FBI\"'),\n",
       " (1, '\"Becoming\"'),\n",
       " (1, '\"Airpods\"'),\n",
       " (1, '\"95٪'),\n",
       " (1, '\"798\"'),\n",
       " (1, '\"777\"'),\n",
       " (1, '\"50'),\n",
       " (1, '\"5'),\n",
       " (1, '\"400'),\n",
       " (1, '\"24'),\n",
       " (1, '\"20'),\n",
       " (1, '\"173'),\n",
       " (1, '\"120'),\n",
       " (1, '\"105'),\n",
       " (1, '!!')]"
      ]
     },
     "execution_count": 43,
     "metadata": {},
     "output_type": "execute_result"
    }
   ],
   "source": [
    "# Hepax words \n",
    "get_most_freq_words(euronews_count)[-20:]"
   ]
  },
  {
   "cell_type": "code",
   "execution_count": 44,
   "metadata": {},
   "outputs": [
    {
     "data": {
      "text/plain": [
       "[(2, 'الطمث'),\n",
       " (2, 'الصرع؟\\u202c'),\n",
       " (2, 'السري'),\n",
       " (2, 'الدباغ:'),\n",
       " (2, 'الخراف'),\n",
       " (2, 'الجولة'),\n",
       " (2, 'الإقبال'),\n",
       " (2, 'الأولى:'),\n",
       " (2, 'إنهاك'),\n",
       " (2, 'إنسانية\"'),\n",
       " (2, 'إن8\"'),\n",
       " (2, 'أيدوا'),\n",
       " (2, 'ألاسكا'),\n",
       " (2, 'أفنيري'),\n",
       " (2, 'أحمر\"'),\n",
       " (2, '57%'),\n",
       " (2, '22950'),\n",
       " (2, '\"لول\"..'),\n",
       " (2, '\"بتموجي\"'),\n",
       " (1, 'المقابلات')]"
      ]
     },
     "execution_count": 44,
     "metadata": {},
     "output_type": "execute_result"
    }
   ],
   "source": [
    "get_most_freq_words(jsc_count)[-20:]"
   ]
  },
  {
   "cell_type": "code",
   "execution_count": 45,
   "metadata": {},
   "outputs": [
    {
     "data": {
      "text/plain": [
       "[(1, '\"67'),\n",
       " (1, '\"4D\"'),\n",
       " (1, '\"4000\"'),\n",
       " (1, '\"40'),\n",
       " (1, '\"3D'),\n",
       " (1, '\"30'),\n",
       " (1, '\"25\"'),\n",
       " (1, '\"243'),\n",
       " (1, '\"23'),\n",
       " (1, '\"2050\"'),\n",
       " (1, '\"201\"'),\n",
       " (1, '\"15\"'),\n",
       " (1, '\"138\"'),\n",
       " (1, '\"100\"'),\n",
       " (1, '\"..اللقطات'),\n",
       " (1, '\"-\\u202dAA\\u202c\"'),\n",
       " (1, '\"#votrejob\"'),\n",
       " (1, '\"#MeToo\"'),\n",
       " (1, '\"\"ترانس'),\n",
       " (1, '!؟')]"
      ]
     },
     "execution_count": 45,
     "metadata": {},
     "output_type": "execute_result"
    }
   ],
   "source": [
    "get_most_freq_words(rt_count)[-20:]"
   ]
  },
  {
   "cell_type": "code",
   "execution_count": 47,
   "metadata": {},
   "outputs": [
    {
     "data": {
      "text/plain": [
       "[(1, '\"31'),\n",
       " (1, '\"25\"'),\n",
       " (1, '\"22'),\n",
       " (1, '\"209\"'),\n",
       " (1, '\"15\"'),\n",
       " (1, '\"123456\"'),\n",
       " (1, '\"12'),\n",
       " (1, '\"1174’\"'),\n",
       " (1, '\"11'),\n",
       " (1, '\"(أنا'),\n",
       " (1, '\"#هوشه_مستشفى_المملكة\"'),\n",
       " (1, '\"#نفرتيتي\"'),\n",
       " (1, '\"#ليش_قتلوه\"'),\n",
       " (1, '\"#قول_كلمه_لقطر\"..'),\n",
       " (1, '\"#ضرب_مصاب_بمتلازمه_داون\"..'),\n",
       " (1, '\"#شيرين_عبدالوهاب\"'),\n",
       " (1, '\"#ريهام_ماتت\"'),\n",
       " (1, '\"#حوار_المستقبل\"'),\n",
       " (1, '\"#الانتفاضة_انطلقت\"..'),\n",
       " (1, '\"#اكتشاف_اكبر_حقل_غاز_بمصر\"'),\n",
       " (1, '\"#اقعدي_يا_هند\"'),\n",
       " (1, '\"#اقعدي_يا_احلام\"'),\n",
       " (1, '\"#اطردو_الشيعه_من_الخليج\"'),\n",
       " (1, '\"#استقالة_حكومة_محلب\"'),\n",
       " (1, '\"#احنا_متراقبين\"..'),\n",
       " (1, '\"#إيران_تشتعل\"..'),\n",
       " (1, '\"#BoycottBeyonce\"؟'),\n",
       " (1, '\"\"يا'),\n",
       " (1, '\"\"آير'),\n",
       " (1, '!!\"')]"
      ]
     },
     "execution_count": 47,
     "metadata": {},
     "output_type": "execute_result"
    }
   ],
   "source": [
    "get_most_freq_words(cnn_count)[-30:]"
   ]
  },
  {
   "cell_type": "code",
   "execution_count": 48,
   "metadata": {},
   "outputs": [
    {
     "data": {
      "text/plain": [
       "[(1, '\"#عاوز_أهاجر_علشان\"'),\n",
       " (1, '\"#عادل_الجبير_يهدد_أوباما\"'),\n",
       " (1, '\"#طمبق_مستغل_الاطفال_جنسيا\"'),\n",
       " (1, '\"#طحن_مو\"'),\n",
       " (1, '\"#طالبي_بحقك\"...'),\n",
       " (1, '\"#ضابط_سعودي_يترك_الاسلامِ\"'),\n",
       " (1, '\"#شهيدات_القفة'),\n",
       " (1, '\"#ذي_فويس_كيدز\"'),\n",
       " (1, '\"#دواعش_يقتلون_والدهم\"'),\n",
       " (1, '\"#داعش_البحرين\"'),\n",
       " (1, '\"#حلب_تناديكم\"..'),\n",
       " (1, '\"#حلب_تحترق\"'),\n",
       " (1, '\"#حراك_15سبتمبر\"'),\n",
       " (1, '\"#تهجير_الأقباط\"'),\n",
       " (1, '\"#تطاول_الوافدين_علي_صفاء_الهاشم\":'),\n",
       " (1, '\"#تسريب_شفيق\"'),\n",
       " (1, '\"#تحت_الضغط\"'),\n",
       " (1, '\"#المعده_القطريه\"'),\n",
       " (1, '\"#القبض_علي_خلايا_استخباراتيه\"'),\n",
       " (1, '\"#السعودية_دولة_جمال_وخيم\"'),\n",
       " (1, '\"#الخامس_جويليه_كن_جزايريا\"'),\n",
       " (1, '\"#الحريه_لنهى_البلوي\"'),\n",
       " (1, '\"#الأمم_المتحدة'),\n",
       " (1, '\"#ارتفاع_الاسعار_المتصاعد'),\n",
       " (1, '\"#إغلاق_مسجد_الأقصى\"'),\n",
       " (1, '\"#أول_رخصة_قيادة_نسائية'),\n",
       " (1, '\"#أوامر_الملكية\"'),\n",
       " (1, '\"#أنا'),\n",
       " (1, '\"#أمير_يعتدي_على_مواطنين\"'),\n",
       " (1, '!!')]"
      ]
     },
     "execution_count": 48,
     "metadata": {},
     "output_type": "execute_result"
    }
   ],
   "source": [
    "get_most_freq_words(bbc_count)[-30:]"
   ]
  },
  {
   "cell_type": "code",
   "execution_count": null,
   "metadata": {},
   "outputs": [],
   "source": [
    "# normalization \n",
    "#  رخصة ؟ ====  رخصة؟\n",
    "# رخصة"
   ]
  },
  {
   "cell_type": "code",
   "execution_count": 49,
   "metadata": {},
   "outputs": [],
   "source": [
    "import re "
   ]
  },
  {
   "cell_type": "code",
   "execution_count": 55,
   "metadata": {},
   "outputs": [],
   "source": [
    "line = 'رخصة قيادة رخصة؟ رخصة. رخصة!'"
   ]
  },
  {
   "cell_type": "code",
   "execution_count": 58,
   "metadata": {},
   "outputs": [
    {
     "data": {
      "text/plain": [
       "['رخصة', 'قيادة', 'رخصة؟', 'رخصة.', 'رخصة!']"
      ]
     },
     "execution_count": 58,
     "metadata": {},
     "output_type": "execute_result"
    }
   ],
   "source": [
    "line.split()"
   ]
  },
  {
   "cell_type": "code",
   "execution_count": 57,
   "metadata": {},
   "outputs": [
    {
     "data": {
      "text/plain": [
       "1"
      ]
     },
     "execution_count": 57,
     "metadata": {},
     "output_type": "execute_result"
    }
   ],
   "source": [
    "line.split().count('رخصة')"
   ]
  },
  {
   "cell_type": "code",
   "execution_count": 59,
   "metadata": {},
   "outputs": [],
   "source": [
    "line = re.sub(r\"([?.!,؟])\", r\" \\1 \", line)"
   ]
  },
  {
   "cell_type": "code",
   "execution_count": 60,
   "metadata": {},
   "outputs": [
    {
     "data": {
      "text/plain": [
       "'رخصة قيادة رخصة ؟  رخصة .  رخصة ! '"
      ]
     },
     "execution_count": 60,
     "metadata": {},
     "output_type": "execute_result"
    }
   ],
   "source": [
    "line"
   ]
  },
  {
   "cell_type": "code",
   "execution_count": 61,
   "metadata": {},
   "outputs": [
    {
     "data": {
      "text/plain": [
       "4"
      ]
     },
     "execution_count": 61,
     "metadata": {},
     "output_type": "execute_result"
    }
   ],
   "source": [
    "line.split().count('رخصة')"
   ]
  },
  {
   "cell_type": "code",
   "execution_count": null,
   "metadata": {},
   "outputs": [],
   "source": []
  }
 ],
 "metadata": {
  "kernelspec": {
   "display_name": "Python 3",
   "language": "python",
   "name": "python3"
  },
  "language_info": {
   "codemirror_mode": {
    "name": "ipython",
    "version": 3
   },
   "file_extension": ".py",
   "mimetype": "text/x-python",
   "name": "python",
   "nbconvert_exporter": "python",
   "pygments_lexer": "ipython3",
   "version": "3.7.3"
  }
 },
 "nbformat": 4,
 "nbformat_minor": 4
}
