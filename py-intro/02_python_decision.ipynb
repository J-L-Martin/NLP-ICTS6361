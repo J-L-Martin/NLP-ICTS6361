{
 "cells": [
  {
   "cell_type": "markdown",
   "metadata": {},
   "source": [
    "# Conditional exection "
   ]
  },
  {
   "cell_type": "markdown",
   "metadata": {},
   "source": [
    "# one way decision "
   ]
  },
  {
   "cell_type": "code",
   "execution_count": 1,
   "metadata": {},
   "outputs": [
    {
     "name": "stdout",
     "output_type": "stream",
     "text": [
      "x: 10\n",
      "done\n"
     ]
    }
   ],
   "source": [
    "x = 10 \n",
    "print('x:', x)\n",
    "if x > 12:\n",
    "    print('x is big')\n",
    "    print('x is larger than 10')\n",
    "print('done')"
   ]
  },
  {
   "cell_type": "code",
   "execution_count": 2,
   "metadata": {},
   "outputs": [
    {
     "name": "stdout",
     "output_type": "stream",
     "text": [
      "x: 22\n",
      "x is big\n",
      "x is larger than 10\n",
      "done\n"
     ]
    }
   ],
   "source": [
    "x = 22 \n",
    "print('x:', x)\n",
    "if x > 12:\n",
    "    print('x is big')\n",
    "    print('x is larger than 10')\n",
    "print('done')"
   ]
  },
  {
   "cell_type": "markdown",
   "metadata": {},
   "source": [
    "# two way decision"
   ]
  },
  {
   "cell_type": "code",
   "execution_count": 3,
   "metadata": {},
   "outputs": [
    {
     "name": "stdout",
     "output_type": "stream",
     "text": [
      "x: 22\n",
      "x is big\n",
      "x is larger than 10\n",
      "done\n"
     ]
    }
   ],
   "source": [
    "x = 22 \n",
    "print('x:', x)\n",
    "if x > 12:\n",
    "    print('x is big')\n",
    "    print('x is larger than 10')\n",
    "else: # x <= 12 \n",
    "    print('x is small')\n",
    "print('done')"
   ]
  },
  {
   "cell_type": "markdown",
   "metadata": {},
   "source": [
    "# multi way decision"
   ]
  },
  {
   "cell_type": "code",
   "execution_count": 6,
   "metadata": {},
   "outputs": [
    {
     "name": "stdout",
     "output_type": "stream",
     "text": [
      "x: 3\n",
      "x is too small\n",
      "done\n"
     ]
    }
   ],
   "source": [
    "x = 3\n",
    "print('x:', x)\n",
    "if x > 12:\n",
    "    print('x is big')\n",
    "    print('x is larger than 10')\n",
    "else: # x <= 12 \n",
    "    if x < 4:\n",
    "        print('x is too small')\n",
    "    else:\n",
    "        print('x is small')\n",
    "print('done')"
   ]
  },
  {
   "cell_type": "code",
   "execution_count": 7,
   "metadata": {},
   "outputs": [
    {
     "name": "stdout",
     "output_type": "stream",
     "text": [
      "x: 3\n",
      "x is too small\n",
      "done\n"
     ]
    }
   ],
   "source": [
    "x = 3\n",
    "print('x:', x)\n",
    "if x > 12:\n",
    "    print('x is big')\n",
    "    print('x is larger than 10')\n",
    "elif x < 4: # x <= 12 \n",
    "    print('x is too small')\n",
    "else:\n",
    "    print('x is small')\n",
    "print('done')"
   ]
  },
  {
   "cell_type": "code",
   "execution_count": null,
   "metadata": {},
   "outputs": [],
   "source": []
  }
 ],
 "metadata": {
  "kernelspec": {
   "display_name": "Python 3",
   "language": "python",
   "name": "python3"
  },
  "language_info": {
   "codemirror_mode": {
    "name": "ipython",
    "version": 3
   },
   "file_extension": ".py",
   "mimetype": "text/x-python",
   "name": "python",
   "nbconvert_exporter": "python",
   "pygments_lexer": "ipython3",
   "version": "3.7.3"
  }
 },
 "nbformat": 4,
 "nbformat_minor": 4
}
